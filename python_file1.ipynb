{
 "cells": [
  {
   "cell_type": "markdown",
   "metadata": {},
   "source": [
    "# Exercise 1 "
   ]
  },
  {
   "cell_type": "markdown",
   "metadata": {},
   "source": [
    "# 1) Display x as a number"
   ]
  },
  {
   "cell_type": "code",
   "execution_count": 1,
   "metadata": {},
   "outputs": [
    {
     "name": "stdout",
     "output_type": "stream",
     "text": [
      " enter a number 5\n"
     ]
    }
   ],
   "source": [
    "x =int(input(\" enter a number \"))"
   ]
  },
  {
   "cell_type": "markdown",
   "metadata": {},
   "source": [
    "# 2) Display y as a number"
   ]
  },
  {
   "cell_type": "code",
   "execution_count": 2,
   "metadata": {},
   "outputs": [
    {
     "name": "stdout",
     "output_type": "stream",
     "text": [
      " enter second number 2\n"
     ]
    }
   ],
   "source": [
    "y= int(input(\" enter second number \"))"
   ]
  },
  {
   "cell_type": "markdown",
   "metadata": {},
   "source": [
    "# 3) a) Sum of two numbers"
   ]
  },
  {
   "cell_type": "code",
   "execution_count": 3,
   "metadata": {},
   "outputs": [
    {
     "name": "stdout",
     "output_type": "stream",
     "text": [
      "sum: 7\n"
     ]
    }
   ],
   "source": [
    "sum = x + y\n",
    "print(\"sum:\", sum)"
   ]
  },
  {
   "cell_type": "markdown",
   "metadata": {},
   "source": [
    "# b) Difference of two numbers"
   ]
  },
  {
   "cell_type": "code",
   "execution_count": 4,
   "metadata": {},
   "outputs": [
    {
     "name": "stdout",
     "output_type": "stream",
     "text": [
      "diff: -3\n"
     ]
    }
   ],
   "source": [
    "diff = y - x \n",
    "print(\"diff:\", diff)"
   ]
  },
  {
   "cell_type": "markdown",
   "metadata": {},
   "source": [
    "# c) Product of two numbers"
   ]
  },
  {
   "cell_type": "code",
   "execution_count": 5,
   "metadata": {},
   "outputs": [
    {
     "name": "stdout",
     "output_type": "stream",
     "text": [
      "product: 10\n"
     ]
    }
   ],
   "source": [
    "product = x * y\n",
    "print(\"product:\", product)"
   ]
  },
  {
   "cell_type": "markdown",
   "metadata": {},
   "source": [
    "# d) Division of two numbers"
   ]
  },
  {
   "cell_type": "code",
   "execution_count": 6,
   "metadata": {
    "scrolled": true
   },
   "outputs": [
    {
     "name": "stdout",
     "output_type": "stream",
     "text": [
      "division:  2.5\n"
     ]
    }
   ],
   "source": [
    "division =  x/y\n",
    "print(\"division: \", division) "
   ]
  },
  {
   "cell_type": "markdown",
   "metadata": {},
   "source": [
    " # Quotient of two numbers"
   ]
  },
  {
   "cell_type": "code",
   "execution_count": 7,
   "metadata": {},
   "outputs": [
    {
     "name": "stdout",
     "output_type": "stream",
     "text": [
      "quotient: 2\n"
     ]
    }
   ],
   "source": [
    "q = x // y\n",
    "print(\"quotient:\", q)"
   ]
  },
  {
   "cell_type": "markdown",
   "metadata": {},
   "source": [
    "# e) Remainder of two numbers"
   ]
  },
  {
   "cell_type": "code",
   "execution_count": 8,
   "metadata": {},
   "outputs": [
    {
     "name": "stdout",
     "output_type": "stream",
     "text": [
      "remainder:  1\n"
     ]
    }
   ],
   "source": [
    "r = x % y\n",
    "print(\"remainder: \", r) "
   ]
  },
  {
   "cell_type": "markdown",
   "metadata": {},
   "source": [
    "# f) Result of  log10 x"
   ]
  },
  {
   "cell_type": "code",
   "execution_count": 9,
   "metadata": {},
   "outputs": [
    {
     "data": {
      "text/plain": [
       "0.6989700043360189"
      ]
     },
     "execution_count": 9,
     "metadata": {},
     "output_type": "execute_result"
    }
   ],
   "source": [
    "import math\n",
    "math.log10( x ) "
   ]
  },
  {
   "cell_type": "markdown",
   "metadata": {},
   "source": [
    "# g) power function of x and y"
   ]
  },
  {
   "cell_type": "code",
   "execution_count": 10,
   "metadata": {},
   "outputs": [
    {
     "data": {
      "text/plain": [
       "25"
      ]
     },
     "execution_count": 10,
     "metadata": {},
     "output_type": "execute_result"
    }
   ],
   "source": [
    "x ** y"
   ]
  },
  {
   "cell_type": "markdown",
   "metadata": {},
   "source": [
    "# 2) enter width of a room"
   ]
  },
  {
   "cell_type": "code",
   "execution_count": 11,
   "metadata": {},
   "outputs": [
    {
     "name": "stdout",
     "output_type": "stream",
     "text": [
      " enter a  number :2\n"
     ]
    }
   ],
   "source": [
    "width = float(input(\" enter a  number :\"))"
   ]
  },
  {
   "cell_type": "markdown",
   "metadata": {},
   "source": [
    "# enter length of a room "
   ]
  },
  {
   "cell_type": "code",
   "execution_count": 12,
   "metadata": {},
   "outputs": [
    {
     "name": "stdout",
     "output_type": "stream",
     "text": [
      " enter a number :5\n"
     ]
    }
   ],
   "source": [
    "length = float(input(\" enter a number :\"))"
   ]
  },
  {
   "cell_type": "code",
   "execution_count": 13,
   "metadata": {},
   "outputs": [
    {
     "name": "stdout",
     "output_type": "stream",
     "text": [
      "area: 10.0\n"
     ]
    }
   ],
   "source": [
    "area = width * length\n",
    "print(\"area:\", area)"
   ]
  },
  {
   "cell_type": "markdown",
   "metadata": {},
   "source": [
    "# 3) Chinese Zodiac assigns animals to year"
   ]
  },
  {
   "cell_type": "code",
   "execution_count": 14,
   "metadata": {},
   "outputs": [
    {
     "name": "stdout",
     "output_type": "stream",
     "text": [
      "Input your birth year: 1998\n"
     ]
    }
   ],
   "source": [
    "year = int(input(\"Input your birth year: \")) "
   ]
  },
  {
   "cell_type": "code",
   "execution_count": 15,
   "metadata": {},
   "outputs": [
    {
     "name": "stdout",
     "output_type": "stream",
     "text": [
      "Your Zodiac sign : Dog\n"
     ]
    }
   ],
   "source": [
    "if (year - 2000) % 12 == 0: #taking the base year as 2000\n",
    "    sign = 'Dragon'\n",
    "elif (year - 2000) % 12 == 1:\n",
    "    sign = 'Snake'\n",
    "elif (year - 2000) % 12 == 2:\n",
    "    sign = 'Horse'\n",
    "elif (year - 2000) % 12 == 3:\n",
    "    sign = 'sheep'\n",
    "elif (year - 2000) % 12 == 4:\n",
    "    sign = 'Monkey'\n",
    "elif (year - 2000) % 12 == 5:\n",
    "    sign = 'Rooster'\n",
    "elif (year - 2000) % 12 == 6:\n",
    "    sign = 'Pig'\n",
    "elif (year - 2000) % 12 == 7:\n",
    "    sign = 'Rat'\n",
    "elif (year - 2000) % 12 == 8:\n",
    "    sign = 'Ox'\n",
    "elif (year - 2000) % 12 == 9:\n",
    "    sign = 'Tiger'\n",
    "elif (year - 2000) % 12 == 10:\n",
    "    sign = 'Dog'\n",
    "else:\n",
    "    sign = 'Hare'\n",
    "\n",
    "print(\"Your Zodiac sign :\",sign)     "
   ]
  },
  {
   "cell_type": "markdown",
   "metadata": {},
   "source": [
    "# 4) Multiplication table in Python "
   ]
  },
  {
   "cell_type": "code",
   "execution_count": 16,
   "metadata": {},
   "outputs": [
    {
     "name": "stdout",
     "output_type": "stream",
     "text": [
      "  1   2   3   4   5   6   7   8   9  10 \n",
      "  2   4   6   8  10  12  14  16  18  20 \n",
      "  3   6   9  12  15  18  21  24  27  30 \n",
      "  4   8  12  16  20  24  28  32  36  40 \n",
      "  5  10  15  20  25  30  35  40  45  50 \n",
      "  6  12  18  24  30  36  42  48  54  60 \n",
      "  7  14  21  28  35  42  49  56  63  70 \n",
      "  8  16  24  32  40  48  56  64  72  80 \n",
      "  9  18  27  36  45  54  63  72  81  90 \n",
      " 10  20  30  40  50  60  70  80  90 100 \n"
     ]
    }
   ],
   "source": [
    "for x in range (1, 11):\n",
    "    for y in range (1, 11):\n",
    "        print ('{:3}'.format(x*y), end=' ')\n",
    "    print()"
   ]
  },
  {
   "cell_type": "markdown",
   "metadata": {},
   "source": [
    "# 5) Salary savings for buying a house"
   ]
  },
  {
   "cell_type": "code",
   "execution_count": 44,
   "metadata": {},
   "outputs": [
    {
     "name": "stdout",
     "output_type": "stream",
     "text": [
      "Type the cost of your dream house here : 8000000\n"
     ]
    }
   ],
   "source": [
    "total_cost = float(input(\"Type the cost of your dream house here : \"))"
   ]
  },
  {
   "cell_type": "code",
   "execution_count": 45,
   "metadata": {},
   "outputs": [
    {
     "name": "stdout",
     "output_type": "stream",
     "text": [
      "portion_down_payment: 2000000.0\n"
     ]
    }
   ],
   "source": [
    "portion_down_payment = 0.25 * total_cost\n",
    "print(\"portion_down_payment:\", portion_down_payment)"
   ]
  },
  {
   "cell_type": "code",
   "execution_count": 46,
   "metadata": {},
   "outputs": [
    {
     "name": "stdout",
     "output_type": "stream",
     "text": [
      "Type annual salary here : 3600000\n",
      "annual_salary: 3600000.0\n",
      "monthly_salary: 300000.0\n"
     ]
    }
   ],
   "source": [
    "annual_salary = float(input(\"Type annual salary here : \"))\n",
    "monthly_salary = annual_salary /12\n",
    "print(\"annual_salary:\", annual_salary)\n",
    "print(\"monthly_salary:\", monthly_salary)"
   ]
  },
  {
   "cell_type": "code",
   "execution_count": 47,
   "metadata": {},
   "outputs": [
    {
     "name": "stdout",
     "output_type": "stream",
     "text": [
      "Type the portion you want to save (as a decimal)      : 0.1\n"
     ]
    }
   ],
   "source": [
    "portion_saved = float(input(\"Type the portion you want to save (as a decimal)      : \"))"
   ]
  },
  {
   "cell_type": "code",
   "execution_count": 48,
   "metadata": {},
   "outputs": [
    {
     "name": "stdout",
     "output_type": "stream",
     "text": [
      "returns: 0.0\n"
     ]
    }
   ],
   "source": [
    "current_savings = 0 \n",
    "returns = (current_savings * 0.4) / 12\n",
    "print(\"returns:\", returns)"
   ]
  },
  {
   "cell_type": "code",
   "execution_count": 49,
   "metadata": {},
   "outputs": [
    {
     "name": "stdout",
     "output_type": "stream",
     "text": [
      "It will take 409 months to save!\n"
     ]
    }
   ],
   "source": [
    "months = 0\n",
    "while current_savings < portion_down_payment:\n",
    "    current_savings +=  current_savings * (0.4 / 12)  # Monthly interest\n",
    "    current_savings += portion_saved  # Monthly savings\n",
    "    months += 1\n",
    "print(\"It will take {} months to save!\".format(months))"
   ]
  },
  {
   "cell_type": "code",
   "execution_count": null,
   "metadata": {},
   "outputs": [],
   "source": []
  }
 ],
 "metadata": {
  "kernelspec": {
   "display_name": "Python 3",
   "language": "python",
   "name": "python3"
  },
  "language_info": {
   "codemirror_mode": {
    "name": "ipython",
    "version": 3
   },
   "file_extension": ".py",
   "mimetype": "text/x-python",
   "name": "python",
   "nbconvert_exporter": "python",
   "pygments_lexer": "ipython3",
   "version": "3.8.3"
  }
 },
 "nbformat": 4,
 "nbformat_minor": 4
}
